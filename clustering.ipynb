{
  "nbformat": 4,
  "nbformat_minor": 0,
  "metadata": {
    "colab": {
      "provenance": []
    },
    "kernelspec": {
      "name": "python3",
      "display_name": "Python 3"
    },
    "language_info": {
      "name": "python"
    }
  },
  "cells": [
    {
      "cell_type": "markdown",
      "source": [
        "**CLUSTERING**"
      ],
      "metadata": {
        "id": "5WXXKTWQsHc_"
      }
    },
    {
      "cell_type": "markdown",
      "source": [
        "Import Library"
      ],
      "metadata": {
        "id": "uhDSOsCosNLX"
      }
    },
    {
      "cell_type": "code",
      "execution_count": 4,
      "metadata": {
        "id": "4uXO7FlcsEun"
      },
      "outputs": [],
      "source": [
        "import pandas as pd\n",
        "from sklearn.cluster import KMeans\n",
        "from sklearn.preprocessing import StandardScaler\n",
        "import matplotlib.pyplot as plt\n",
        "import seaborn as sns\n",
        "from sklearn.decomposition import PCA\n"
      ]
    },
    {
      "cell_type": "code",
      "source": [
        "df = pd.read_csv('/content/cleaned_data.csv')  # pastikan path-nya sesuai"
      ],
      "metadata": {
        "id": "PRp3QctEu85G"
      },
      "execution_count": 29,
      "outputs": []
    },
    {
      "cell_type": "code",
      "source": [
        "# 3. Ambil Kolom Numerik\n",
        "# ================================\n",
        "df_numeric = df.select_dtypes(include=['number'])"
      ],
      "metadata": {
        "id": "RrhDwchFviMG"
      },
      "execution_count": 36,
      "outputs": []
    },
    {
      "cell_type": "code",
      "source": [
        "# 4. Bersihkan Missing Value Secara Aman\n",
        "# ================================\n",
        "df_numeric = df_numeric.dropna(axis=1, how='all')                       # hapus kolom yang semua NaN\n",
        "df_numeric = df_numeric.fillna(df_numeric.mean(numeric_only=True))     # isi NaN dengan rata-rata\n",
        "df_numeric = df_numeric.dropna()"
      ],
      "metadata": {
        "id": "4qKKe77FvnbH"
      },
      "execution_count": 37,
      "outputs": []
    },
    {
      "cell_type": "code",
      "source": [
        "# 5. Pastikan Tidak Kosong\n",
        "# ================================\n",
        "print(\"Dimensi akhir:\", df_numeric.shape)\n",
        "print(\"Jumlah NaN tersisa:\", df_numeric.isnull().sum().sum())"
      ],
      "metadata": {
        "colab": {
          "base_uri": "https://localhost:8080/"
        },
        "id": "yyA_v7cOvpuO",
        "outputId": "525fa02d-78be-4d4e-c29b-0bc8ad548686"
      },
      "execution_count": 38,
      "outputs": [
        {
          "output_type": "stream",
          "name": "stdout",
          "text": [
            "Dimensi akhir: (5000, 11)\n",
            "Jumlah NaN tersisa: 0\n"
          ]
        }
      ]
    },
    {
      "cell_type": "code",
      "source": [
        "# 6. Scaling Data\n",
        "# ================================\n",
        "scaler = StandardScaler()\n",
        "scaled_data = scaler.fit_transform(df_numeric)"
      ],
      "metadata": {
        "id": "Xey7P8ppvsVW"
      },
      "execution_count": 39,
      "outputs": []
    },
    {
      "cell_type": "code",
      "source": [
        "# Jalankan KMeans clustering\n",
        "kmeans = KMeans(n_clusters=3, random_state=42)\n",
        "kmeans.fit(scaled_data)\n",
        "\n",
        "# Tambahkan label cluster ke DataFrame\n",
        "df_numeric['cluster'] = kmeans.labels_\n"
      ],
      "metadata": {
        "id": "CvpxzHm4vywu"
      },
      "execution_count": 40,
      "outputs": []
    },
    {
      "cell_type": "code",
      "source": [
        "# Tampilkan beberapa baris\n",
        "df_numeric.head()"
      ],
      "metadata": {
        "colab": {
          "base_uri": "https://localhost:8080/",
          "height": 206
        },
        "id": "ewx-i75Qv4bm",
        "outputId": "548ddf9b-6ad8-45c6-c2da-3f05078a0d65"
      },
      "execution_count": 41,
      "outputs": [
        {
          "output_type": "execute_result",
          "data": {
            "text/plain": [
              "   Attendance (%)  Midterm_Score  Final_Score  Assignments_Avg  Quizzes_Avg  \\\n",
              "0        0.947189       0.010168     0.326830         0.473895     0.063413   \n",
              "1        0.954191       0.287881     0.566783         0.484697     0.964793   \n",
              "2        0.990398       0.030672     0.397532         0.717143     0.000000   \n",
              "3        0.807562       0.094182     0.073870         0.362072     0.325465   \n",
              "4        0.188038       0.218870     0.362848         0.353271     0.679736   \n",
              "\n",
              "   Projects_Score  Participation_Score  Total_Score  Study_Hours_per_Week  \\\n",
              "0          0.2568                0.734     0.208690                 0.212   \n",
              "1          0.9646                0.880     0.703874                 0.884   \n",
              "2          0.8244                0.047     0.384698                 0.296   \n",
              "3          0.1096                0.042     0.023635                 0.820   \n",
              "4          0.7486                0.643     0.467549                 0.332   \n",
              "\n",
              "   Sleep_Hours_per_Night  Stress_Level (1-10)  cluster  \n",
              "0                   0.38             0.000000        0  \n",
              "1                   0.06             0.333333        2  \n",
              "2                   0.42             0.888889        0  \n",
              "3                   0.18             0.777778        0  \n",
              "4                   0.10             0.555556        2  "
            ],
            "text/html": [
              "\n",
              "  <div id=\"df-15524de1-8840-47a6-a23e-49be5a9fbcef\" class=\"colab-df-container\">\n",
              "    <div>\n",
              "<style scoped>\n",
              "    .dataframe tbody tr th:only-of-type {\n",
              "        vertical-align: middle;\n",
              "    }\n",
              "\n",
              "    .dataframe tbody tr th {\n",
              "        vertical-align: top;\n",
              "    }\n",
              "\n",
              "    .dataframe thead th {\n",
              "        text-align: right;\n",
              "    }\n",
              "</style>\n",
              "<table border=\"1\" class=\"dataframe\">\n",
              "  <thead>\n",
              "    <tr style=\"text-align: right;\">\n",
              "      <th></th>\n",
              "      <th>Attendance (%)</th>\n",
              "      <th>Midterm_Score</th>\n",
              "      <th>Final_Score</th>\n",
              "      <th>Assignments_Avg</th>\n",
              "      <th>Quizzes_Avg</th>\n",
              "      <th>Projects_Score</th>\n",
              "      <th>Participation_Score</th>\n",
              "      <th>Total_Score</th>\n",
              "      <th>Study_Hours_per_Week</th>\n",
              "      <th>Sleep_Hours_per_Night</th>\n",
              "      <th>Stress_Level (1-10)</th>\n",
              "      <th>cluster</th>\n",
              "    </tr>\n",
              "  </thead>\n",
              "  <tbody>\n",
              "    <tr>\n",
              "      <th>0</th>\n",
              "      <td>0.947189</td>\n",
              "      <td>0.010168</td>\n",
              "      <td>0.326830</td>\n",
              "      <td>0.473895</td>\n",
              "      <td>0.063413</td>\n",
              "      <td>0.2568</td>\n",
              "      <td>0.734</td>\n",
              "      <td>0.208690</td>\n",
              "      <td>0.212</td>\n",
              "      <td>0.38</td>\n",
              "      <td>0.000000</td>\n",
              "      <td>0</td>\n",
              "    </tr>\n",
              "    <tr>\n",
              "      <th>1</th>\n",
              "      <td>0.954191</td>\n",
              "      <td>0.287881</td>\n",
              "      <td>0.566783</td>\n",
              "      <td>0.484697</td>\n",
              "      <td>0.964793</td>\n",
              "      <td>0.9646</td>\n",
              "      <td>0.880</td>\n",
              "      <td>0.703874</td>\n",
              "      <td>0.884</td>\n",
              "      <td>0.06</td>\n",
              "      <td>0.333333</td>\n",
              "      <td>2</td>\n",
              "    </tr>\n",
              "    <tr>\n",
              "      <th>2</th>\n",
              "      <td>0.990398</td>\n",
              "      <td>0.030672</td>\n",
              "      <td>0.397532</td>\n",
              "      <td>0.717143</td>\n",
              "      <td>0.000000</td>\n",
              "      <td>0.8244</td>\n",
              "      <td>0.047</td>\n",
              "      <td>0.384698</td>\n",
              "      <td>0.296</td>\n",
              "      <td>0.42</td>\n",
              "      <td>0.888889</td>\n",
              "      <td>0</td>\n",
              "    </tr>\n",
              "    <tr>\n",
              "      <th>3</th>\n",
              "      <td>0.807562</td>\n",
              "      <td>0.094182</td>\n",
              "      <td>0.073870</td>\n",
              "      <td>0.362072</td>\n",
              "      <td>0.325465</td>\n",
              "      <td>0.1096</td>\n",
              "      <td>0.042</td>\n",
              "      <td>0.023635</td>\n",
              "      <td>0.820</td>\n",
              "      <td>0.18</td>\n",
              "      <td>0.777778</td>\n",
              "      <td>0</td>\n",
              "    </tr>\n",
              "    <tr>\n",
              "      <th>4</th>\n",
              "      <td>0.188038</td>\n",
              "      <td>0.218870</td>\n",
              "      <td>0.362848</td>\n",
              "      <td>0.353271</td>\n",
              "      <td>0.679736</td>\n",
              "      <td>0.7486</td>\n",
              "      <td>0.643</td>\n",
              "      <td>0.467549</td>\n",
              "      <td>0.332</td>\n",
              "      <td>0.10</td>\n",
              "      <td>0.555556</td>\n",
              "      <td>2</td>\n",
              "    </tr>\n",
              "  </tbody>\n",
              "</table>\n",
              "</div>\n",
              "    <div class=\"colab-df-buttons\">\n",
              "\n",
              "  <div class=\"colab-df-container\">\n",
              "    <button class=\"colab-df-convert\" onclick=\"convertToInteractive('df-15524de1-8840-47a6-a23e-49be5a9fbcef')\"\n",
              "            title=\"Convert this dataframe to an interactive table.\"\n",
              "            style=\"display:none;\">\n",
              "\n",
              "  <svg xmlns=\"http://www.w3.org/2000/svg\" height=\"24px\" viewBox=\"0 -960 960 960\">\n",
              "    <path d=\"M120-120v-720h720v720H120Zm60-500h600v-160H180v160Zm220 220h160v-160H400v160Zm0 220h160v-160H400v160ZM180-400h160v-160H180v160Zm440 0h160v-160H620v160ZM180-180h160v-160H180v160Zm440 0h160v-160H620v160Z\"/>\n",
              "  </svg>\n",
              "    </button>\n",
              "\n",
              "  <style>\n",
              "    .colab-df-container {\n",
              "      display:flex;\n",
              "      gap: 12px;\n",
              "    }\n",
              "\n",
              "    .colab-df-convert {\n",
              "      background-color: #E8F0FE;\n",
              "      border: none;\n",
              "      border-radius: 50%;\n",
              "      cursor: pointer;\n",
              "      display: none;\n",
              "      fill: #1967D2;\n",
              "      height: 32px;\n",
              "      padding: 0 0 0 0;\n",
              "      width: 32px;\n",
              "    }\n",
              "\n",
              "    .colab-df-convert:hover {\n",
              "      background-color: #E2EBFA;\n",
              "      box-shadow: 0px 1px 2px rgba(60, 64, 67, 0.3), 0px 1px 3px 1px rgba(60, 64, 67, 0.15);\n",
              "      fill: #174EA6;\n",
              "    }\n",
              "\n",
              "    .colab-df-buttons div {\n",
              "      margin-bottom: 4px;\n",
              "    }\n",
              "\n",
              "    [theme=dark] .colab-df-convert {\n",
              "      background-color: #3B4455;\n",
              "      fill: #D2E3FC;\n",
              "    }\n",
              "\n",
              "    [theme=dark] .colab-df-convert:hover {\n",
              "      background-color: #434B5C;\n",
              "      box-shadow: 0px 1px 3px 1px rgba(0, 0, 0, 0.15);\n",
              "      filter: drop-shadow(0px 1px 2px rgba(0, 0, 0, 0.3));\n",
              "      fill: #FFFFFF;\n",
              "    }\n",
              "  </style>\n",
              "\n",
              "    <script>\n",
              "      const buttonEl =\n",
              "        document.querySelector('#df-15524de1-8840-47a6-a23e-49be5a9fbcef button.colab-df-convert');\n",
              "      buttonEl.style.display =\n",
              "        google.colab.kernel.accessAllowed ? 'block' : 'none';\n",
              "\n",
              "      async function convertToInteractive(key) {\n",
              "        const element = document.querySelector('#df-15524de1-8840-47a6-a23e-49be5a9fbcef');\n",
              "        const dataTable =\n",
              "          await google.colab.kernel.invokeFunction('convertToInteractive',\n",
              "                                                    [key], {});\n",
              "        if (!dataTable) return;\n",
              "\n",
              "        const docLinkHtml = 'Like what you see? Visit the ' +\n",
              "          '<a target=\"_blank\" href=https://colab.research.google.com/notebooks/data_table.ipynb>data table notebook</a>'\n",
              "          + ' to learn more about interactive tables.';\n",
              "        element.innerHTML = '';\n",
              "        dataTable['output_type'] = 'display_data';\n",
              "        await google.colab.output.renderOutput(dataTable, element);\n",
              "        const docLink = document.createElement('div');\n",
              "        docLink.innerHTML = docLinkHtml;\n",
              "        element.appendChild(docLink);\n",
              "      }\n",
              "    </script>\n",
              "  </div>\n",
              "\n",
              "\n",
              "    <div id=\"df-429e7187-9618-46dc-8fe6-59b4b7f9f3b1\">\n",
              "      <button class=\"colab-df-quickchart\" onclick=\"quickchart('df-429e7187-9618-46dc-8fe6-59b4b7f9f3b1')\"\n",
              "                title=\"Suggest charts\"\n",
              "                style=\"display:none;\">\n",
              "\n",
              "<svg xmlns=\"http://www.w3.org/2000/svg\" height=\"24px\"viewBox=\"0 0 24 24\"\n",
              "     width=\"24px\">\n",
              "    <g>\n",
              "        <path d=\"M19 3H5c-1.1 0-2 .9-2 2v14c0 1.1.9 2 2 2h14c1.1 0 2-.9 2-2V5c0-1.1-.9-2-2-2zM9 17H7v-7h2v7zm4 0h-2V7h2v10zm4 0h-2v-4h2v4z\"/>\n",
              "    </g>\n",
              "</svg>\n",
              "      </button>\n",
              "\n",
              "<style>\n",
              "  .colab-df-quickchart {\n",
              "      --bg-color: #E8F0FE;\n",
              "      --fill-color: #1967D2;\n",
              "      --hover-bg-color: #E2EBFA;\n",
              "      --hover-fill-color: #174EA6;\n",
              "      --disabled-fill-color: #AAA;\n",
              "      --disabled-bg-color: #DDD;\n",
              "  }\n",
              "\n",
              "  [theme=dark] .colab-df-quickchart {\n",
              "      --bg-color: #3B4455;\n",
              "      --fill-color: #D2E3FC;\n",
              "      --hover-bg-color: #434B5C;\n",
              "      --hover-fill-color: #FFFFFF;\n",
              "      --disabled-bg-color: #3B4455;\n",
              "      --disabled-fill-color: #666;\n",
              "  }\n",
              "\n",
              "  .colab-df-quickchart {\n",
              "    background-color: var(--bg-color);\n",
              "    border: none;\n",
              "    border-radius: 50%;\n",
              "    cursor: pointer;\n",
              "    display: none;\n",
              "    fill: var(--fill-color);\n",
              "    height: 32px;\n",
              "    padding: 0;\n",
              "    width: 32px;\n",
              "  }\n",
              "\n",
              "  .colab-df-quickchart:hover {\n",
              "    background-color: var(--hover-bg-color);\n",
              "    box-shadow: 0 1px 2px rgba(60, 64, 67, 0.3), 0 1px 3px 1px rgba(60, 64, 67, 0.15);\n",
              "    fill: var(--button-hover-fill-color);\n",
              "  }\n",
              "\n",
              "  .colab-df-quickchart-complete:disabled,\n",
              "  .colab-df-quickchart-complete:disabled:hover {\n",
              "    background-color: var(--disabled-bg-color);\n",
              "    fill: var(--disabled-fill-color);\n",
              "    box-shadow: none;\n",
              "  }\n",
              "\n",
              "  .colab-df-spinner {\n",
              "    border: 2px solid var(--fill-color);\n",
              "    border-color: transparent;\n",
              "    border-bottom-color: var(--fill-color);\n",
              "    animation:\n",
              "      spin 1s steps(1) infinite;\n",
              "  }\n",
              "\n",
              "  @keyframes spin {\n",
              "    0% {\n",
              "      border-color: transparent;\n",
              "      border-bottom-color: var(--fill-color);\n",
              "      border-left-color: var(--fill-color);\n",
              "    }\n",
              "    20% {\n",
              "      border-color: transparent;\n",
              "      border-left-color: var(--fill-color);\n",
              "      border-top-color: var(--fill-color);\n",
              "    }\n",
              "    30% {\n",
              "      border-color: transparent;\n",
              "      border-left-color: var(--fill-color);\n",
              "      border-top-color: var(--fill-color);\n",
              "      border-right-color: var(--fill-color);\n",
              "    }\n",
              "    40% {\n",
              "      border-color: transparent;\n",
              "      border-right-color: var(--fill-color);\n",
              "      border-top-color: var(--fill-color);\n",
              "    }\n",
              "    60% {\n",
              "      border-color: transparent;\n",
              "      border-right-color: var(--fill-color);\n",
              "    }\n",
              "    80% {\n",
              "      border-color: transparent;\n",
              "      border-right-color: var(--fill-color);\n",
              "      border-bottom-color: var(--fill-color);\n",
              "    }\n",
              "    90% {\n",
              "      border-color: transparent;\n",
              "      border-bottom-color: var(--fill-color);\n",
              "    }\n",
              "  }\n",
              "</style>\n",
              "\n",
              "      <script>\n",
              "        async function quickchart(key) {\n",
              "          const quickchartButtonEl =\n",
              "            document.querySelector('#' + key + ' button');\n",
              "          quickchartButtonEl.disabled = true;  // To prevent multiple clicks.\n",
              "          quickchartButtonEl.classList.add('colab-df-spinner');\n",
              "          try {\n",
              "            const charts = await google.colab.kernel.invokeFunction(\n",
              "                'suggestCharts', [key], {});\n",
              "          } catch (error) {\n",
              "            console.error('Error during call to suggestCharts:', error);\n",
              "          }\n",
              "          quickchartButtonEl.classList.remove('colab-df-spinner');\n",
              "          quickchartButtonEl.classList.add('colab-df-quickchart-complete');\n",
              "        }\n",
              "        (() => {\n",
              "          let quickchartButtonEl =\n",
              "            document.querySelector('#df-429e7187-9618-46dc-8fe6-59b4b7f9f3b1 button');\n",
              "          quickchartButtonEl.style.display =\n",
              "            google.colab.kernel.accessAllowed ? 'block' : 'none';\n",
              "        })();\n",
              "      </script>\n",
              "    </div>\n",
              "\n",
              "    </div>\n",
              "  </div>\n"
            ],
            "application/vnd.google.colaboratory.intrinsic+json": {
              "type": "dataframe",
              "variable_name": "df_numeric",
              "summary": "{\n  \"name\": \"df_numeric\",\n  \"rows\": 5000,\n  \"fields\": [\n    {\n      \"column\": \"Attendance (%)\",\n      \"properties\": {\n        \"dtype\": \"number\",\n        \"std\": 0.28791190349283,\n        \"min\": 0.0,\n        \"max\": 1.0,\n        \"num_unique_values\": 3182,\n        \"samples\": [\n          0.579115823164633,\n          0.1296259251850371,\n          0.9855971194238852\n        ],\n        \"semantic_type\": \"\",\n        \"description\": \"\"\n      }\n    },\n    {\n      \"column\": \"Midterm_Score\",\n      \"properties\": {\n        \"dtype\": \"number\",\n        \"std\": 0.29065385300903196,\n        \"min\": 0.0,\n        \"max\": 1.0,\n        \"num_unique_values\": 3426,\n        \"samples\": [\n          0.8463077179529923,\n          0.1285214202367062,\n          0.8316386064344059\n        ],\n        \"semantic_type\": \"\",\n        \"description\": \"\"\n      }\n    },\n    {\n      \"column\": \"Final_Score\",\n      \"properties\": {\n        \"dtype\": \"number\",\n        \"std\": 0.28529257323416934,\n        \"min\": 0.0,\n        \"max\": 1.0,\n        \"num_unique_values\": 3360,\n        \"samples\": [\n          0.912789728197432,\n          0.5009171252292812,\n          0.0950475237618809\n        ],\n        \"semantic_type\": \"\",\n        \"description\": \"\"\n      }\n    },\n    {\n      \"column\": \"Assignments_Avg\",\n      \"properties\": {\n        \"dtype\": \"number\",\n        \"std\": 0.28814337596338796,\n        \"min\": 0.0,\n        \"max\": 1.0000000000000002,\n        \"num_unique_values\": 3123,\n        \"samples\": [\n          0.2212442488497701,\n          0.2292458491698341,\n          0.2452490498099619\n        ],\n        \"semantic_type\": \"\",\n        \"description\": \"\"\n      }\n    },\n    {\n      \"column\": \"Quizzes_Avg\",\n      \"properties\": {\n        \"dtype\": \"number\",\n        \"std\": 0.2885346576376445,\n        \"min\": 0.0,\n        \"max\": 1.0000000000000002,\n        \"num_unique_values\": 3133,\n        \"samples\": [\n          0.4036807361472296,\n          0.8135627125425087,\n          0.0292058411682336\n        ],\n        \"semantic_type\": \"\",\n        \"description\": \"\"\n      }\n    },\n    {\n      \"column\": \"Projects_Score\",\n      \"properties\": {\n        \"dtype\": \"number\",\n        \"std\": 0.2908485969921031,\n        \"min\": 0.0,\n        \"max\": 1.0,\n        \"num_unique_values\": 3138,\n        \"samples\": [\n          0.5494000000000001,\n          0.5208000000000002,\n          0.1979999999999999\n        ],\n        \"semantic_type\": \"\",\n        \"description\": \"\"\n      }\n    },\n    {\n      \"column\": \"Participation_Score\",\n      \"properties\": {\n        \"dtype\": \"number\",\n        \"std\": 0.289897848437455,\n        \"min\": 0.0,\n        \"max\": 1.0,\n        \"num_unique_values\": 994,\n        \"samples\": [\n          0.606,\n          0.3990000000000001,\n          0.357\n        ],\n        \"semantic_type\": \"\",\n        \"description\": \"\"\n      }\n    },\n    {\n      \"column\": \"Total_Score\",\n      \"properties\": {\n        \"dtype\": \"number\",\n        \"std\": 0.16251244406999135,\n        \"min\": 0.0,\n        \"max\": 0.9999999999999998,\n        \"num_unique_values\": 4846,\n        \"samples\": [\n          0.2137807797345441,\n          0.1789635756751595,\n          0.5986356331269176\n        ],\n        \"semantic_type\": \"\",\n        \"description\": \"\"\n      }\n    },\n    {\n      \"column\": \"Study_Hours_per_Week\",\n      \"properties\": {\n        \"dtype\": \"number\",\n        \"std\": 0.2877213848147122,\n        \"min\": 0.0,\n        \"max\": 1.0,\n        \"num_unique_values\": 251,\n        \"samples\": [\n          0.1039999999999999,\n          0.6840000000000002,\n          0.5720000000000001\n        ],\n        \"semantic_type\": \"\",\n        \"description\": \"\"\n      }\n    },\n    {\n      \"column\": \"Sleep_Hours_per_Night\",\n      \"properties\": {\n        \"dtype\": \"number\",\n        \"std\": 0.28923100362632465,\n        \"min\": 0.0,\n        \"max\": 1.0,\n        \"num_unique_values\": 51,\n        \"samples\": [\n          0.4400000000000001,\n          0.3,\n          0.1999999999999999\n        ],\n        \"semantic_type\": \"\",\n        \"description\": \"\"\n      }\n    },\n    {\n      \"column\": \"Stress_Level (1-10)\",\n      \"properties\": {\n        \"dtype\": \"number\",\n        \"std\": 0.3207401687329214,\n        \"min\": 0.0,\n        \"max\": 1.0,\n        \"num_unique_values\": 10,\n        \"samples\": [\n          1.0,\n          0.3333333333333333,\n          0.1111111111111111\n        ],\n        \"semantic_type\": \"\",\n        \"description\": \"\"\n      }\n    },\n    {\n      \"column\": \"cluster\",\n      \"properties\": {\n        \"dtype\": \"int32\",\n        \"num_unique_values\": 3,\n        \"samples\": [\n          0,\n          2,\n          1\n        ],\n        \"semantic_type\": \"\",\n        \"description\": \"\"\n      }\n    }\n  ]\n}"
            }
          },
          "metadata": {},
          "execution_count": 41
        }
      ]
    },
    {
      "cell_type": "code",
      "source": [
        "# Simpan hasil clustering ke file baru\n",
        "df_numeric.to_csv('/content/hasil_clustering.csv', index=False)\n",
        "print(\"Berhasil disimpan ke hasil_clustering.csv\")\n"
      ],
      "metadata": {
        "colab": {
          "base_uri": "https://localhost:8080/"
        },
        "id": "zxnnH9bywEam",
        "outputId": "19c6085e-650f-404a-be7f-9eeab34ab6ef"
      },
      "execution_count": 42,
      "outputs": [
        {
          "output_type": "stream",
          "name": "stdout",
          "text": [
            "Berhasil disimpan ke hasil_clustering.csv\n"
          ]
        }
      ]
    }
  ]
}